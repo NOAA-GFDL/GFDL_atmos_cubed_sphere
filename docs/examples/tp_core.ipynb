{
 "cells": [
  {
   "cell_type": "markdown",
   "metadata": {},
   "source": [
    "This notebook demonstrates the principal supported 1D advection operators in FV3, applied to a couple of different initial conditions, advected on a periodic domain of length `nx` for a certain length of time, either 4x times around the domain or for a few timesteps. All schemes use the Piecewise-Parabolic Method with a variety of constraints. \n",
    "\n",
    "This is intended to be an **interactive** notebook; see the options given in cell \\#2. It is fully self-contained so you can download and play as you would like. "
   ]
  },
  {
   "cell_type": "code",
   "execution_count": 1,
   "metadata": {},
   "outputs": [],
   "source": [
    "#Libraries\n",
    "#%matplotlib notebook\n",
    "import numpy as np\n",
    "import matplotlib.pyplot as plt\n",
    "from IPython.display import display, clear_output\n",
    "import matplotlib.ticker as ticker"
   ]
  },
  {
   "cell_type": "code",
   "execution_count": 2,
   "metadata": {},
   "outputs": [],
   "source": [
    "#User Options\n",
    "\n",
    "#Solver\n",
    "ord = 5 # 5, 6, 8, 10 \n",
    "PD = False #Positivity constraint for ord = 5, 6\n",
    "dt = 1\n",
    "courant = 0.8 #PPM is formally stable for courant on [0,1]\n",
    "\n",
    "#Initial conditions: \n",
    "# 0 is a Gaussian of width 5\n",
    "# 1 is a top-hat (discontinuous) profile of width 3\n",
    "# 2 is like 1 with a 2dx signal superposed\n",
    "tracer_type = 0\n",
    "\n",
    "#Grid\n",
    "nx = 40\n",
    "dx = 1.0\n",
    "L = nx*dx\n",
    "dxa = dx*np.ones(nx)\n",
    "xi = np.concatenate((np.array([0]), np.cumsum(dxa)))\n",
    "xc = 0.5*(xi[1:]+xi[:-1])\n",
    "\n",
    "#Integration length\n",
    "c0 = courant*dx/dt\n",
    "tend = np.ceil(L/c0*4) # 4 times around\n",
    "#tend = 10.*dt #10 timesteps \n",
    "\n",
    "#Zoom area\n",
    "zoomL = 20\n",
    "zoomR = 30\n",
    "\n",
    "#Figure dir\n",
    "writeFigs=False\n",
    "figdir='./tp_core_figures/' #Must exist"
   ]
  },
  {
   "cell_type": "code",
   "execution_count": 3,
   "metadata": {},
   "outputs": [],
   "source": [
    "#From https://www.machinelearningplus.com/plots/top-50-matplotlib-visualizations-the-master-plots-python/\n",
    "## CAUTION annoyingly slow webpage\n",
    "large = 18; med = 16; small = 14\n",
    "params = {'axes.titlesize': large,\n",
    "          'legend.fontsize': med,\n",
    "          'figure.figsize': (8, 4),\n",
    "          'axes.labelsize': med,\n",
    "          'axes.titlesize': med,\n",
    "          'xtick.labelsize': small,\n",
    "          'ytick.labelsize': small,\n",
    "          'figure.titlesize': large}\n",
    "plt.rcParams.update(params)"
   ]
  },
  {
   "cell_type": "code",
   "execution_count": 4,
   "metadata": {
    "jupyter": {
     "source_hidden": true
    }
   },
   "outputs": [],
   "source": [
    "#Constants\n",
    "c1 = -2./14. ; c2 = 11./14. ; c3 = 5./14.\n",
    "p1 = 7./12. ; p2 = -1./12.\n",
    "r12 = 1./12. ; r3 = 1./3."
   ]
  },
  {
   "cell_type": "code",
   "execution_count": 5,
   "metadata": {
    "jupyter": {
     "source_hidden": true
    }
   },
   "outputs": [],
   "source": [
    "#Define indices with periodicity built-in\n",
    "ix = np.arange(nx)\n",
    "ixp1 = np.mod((ix + 1), nx)\n",
    "ixm1 = np.mod((ix - 1), nx)\n",
    "ixm2 = np.mod((ix - 2), nx)\n",
    "\n",
    "#Interface indices with periodicity\n",
    "hx = np.mod(np.arange(nx+1), nx)\n",
    "hxm1 = np.mod(hx-1,nx)"
   ]
  },
  {
   "cell_type": "code",
   "execution_count": 6,
   "metadata": {},
   "outputs": [],
   "source": [
    "#Define analytic profiles\n",
    "\n",
    "def wrap_around(xc,L):\n",
    "    xw = np.mod(xc,L)\n",
    "    return xw\n",
    "\n",
    "#IC #0\n",
    "#Assumes domain is L = 40 wide\n",
    "def tracer_gaussian(xc):\n",
    "    xw = wrap_around(xc,L)\n",
    "    x0 = L/2.\n",
    "    width = 5.\n",
    "    q = np.exp(-(xw-x0)*(xw-x0)/width/width)\n",
    "    return q\n",
    "\n",
    "#IC #1\n",
    "def tracer_tophat(xc):\n",
    "    xw = wrap_around(xc,L)\n",
    "    x0 = L/2.\n",
    "    width = 3.\n",
    "    q = np.zeros(nx)\n",
    "    q[np.where(np.logical_and(xw > x0-width,xw < x0+width))] = 1.\n",
    "    return q\n",
    "\n",
    "#IC #2\n",
    "def tracer_2dx_tophat(xc):\n",
    "    xw = wrap_around(xc,L)\n",
    "    q = tracer_tophat(xc)*0.75\n",
    "    i2 = np.where(q > 0)\n",
    "    q[i2] = q[i2] + 0.1*np.sin(np.pi*xc[i2])\n",
    "    return q\n",
    "\n",
    "def method_string():\n",
    "    outstr = 'hord = ' + str(ord)\n",
    "    if PD and ord < 7:\n",
    "        outstr += ', positive-definite'\n",
    "    return outstr"
   ]
  },
  {
   "cell_type": "code",
   "execution_count": 7,
   "metadata": {
    "jupyter": {
     "source_hidden": true
    }
   },
   "outputs": [],
   "source": [
    "if tracer_type == 1:\n",
    "    tracer_init = tracer_tophat\n",
    "elif tracer_type == 2:\n",
    "    tracer_init = tracer_2dx_tophat\n",
    "else:\n",
    "     tracer_init = tracer_gaussian   "
   ]
  },
  {
   "cell_type": "markdown",
   "metadata": {},
   "source": [
    "Below is the loop that advances the solution and makes plots. The exact solution is given in red and the computed solution is given in blue."
   ]
  },
  {
   "cell_type": "code",
   "execution_count": 8,
   "metadata": {},
   "outputs": [
    {
     "data": {
      "image/png": "[encoded data removed]",
      "text/plain": [
       "<Figure size 576x288 with 1 Axes>"
      ]
     },
     "metadata": {
      "needs_background": "light"
     },
     "output_type": "display_data"
    }
   ],
   "source": [
    "fig = plt.figure(figsize=(8,4))\n",
    "ax = fig.add_subplot(1, 1, 1) \n",
    "time = 0\n",
    "q = tracer_init(xc)\n",
    "c = c0*np.ones(nx+1)\n",
    "#plt.ion()\n",
    "\n",
    "title_str = method_string() + '    Time: %4d'\n",
    "\n",
    "#Integration loop\n",
    "while time < tend:\n",
    "#c = dt*u/dxa; taken as a variable; defined on cell../common/diag_table_pire_reduced interfaces\n",
    "#Ignoring edge handling for now\n",
    "\n",
    "    #begin xppm\n",
    "       \n",
    "    #al, c defined on interfaces\n",
    "    #q, bl, br, b0, smt5 defined on cells\n",
    "\n",
    "    qprev = q\n",
    "    \n",
    "    if ord < 7:\n",
    "        al = p1*(q[ixm1]+q[ix]) + p2*(q[ixm2]+q[ixp1]) #std for all PPM\n",
    "        if PD:\n",
    "            al[np.where(al < 0.)] = 0.\n",
    "\n",
    "        bl = al[ix] - q[ix]\n",
    "        br = al[ixp1] - q[ix]\n",
    "        b0 = br + bl\n",
    "\n",
    "        #Slight difference from tp_core for graphical purpose:\n",
    "        # in S-J's code smt5 is False if bl = br = 0, in which\n",
    "        # case the reconstruction is piecewise-constant anyway.\n",
    "        # This is for efficiency (no reason to evaluate higher-\n",
    "        # order flux when it naturally is first-order)\n",
    "        # To show places where the limiter is actually working\n",
    "        # we set smt5 = true if recon is naturally flat.\n",
    "        if ord == 1:\n",
    "            smt5 = np.abs(lim_fac*b0) <= np.abs(bl-br)\n",
    "        elif ord == 6:\n",
    "            smt5 = 3.*np.abs(b0) <= np.abs(bl-br)\n",
    "        else:\n",
    "            smt5 = br*bl <= 0\n",
    "\n",
    "        if PD:\n",
    "            da1 = br - bl\n",
    "            a4 = -3*b0\n",
    "\n",
    "            cond1 = (np.abs(da1) < -a4) & (q + 0.25/a4*da1*da1 + a4*r12 < 0.)\n",
    "            icond2 = np.where(cond1 & ~smt5)\n",
    "            icond3 = np.where(cond1 & smt5 & (da1 > 0.))\n",
    "            icond4 = np.where(cond1 & smt5 & (da1 <= 0.))\n",
    "\n",
    "            br[icond2] = 0.\n",
    "            bl[icond2] = 0.\n",
    "            b0[icond2] = 0.\n",
    "\n",
    "            br[icond3] = -2.*bl[icond3]\n",
    "            b0[icond3] =    -bl[icond3]\n",
    "\n",
    "            bl[icond4] = -2.*br[icond4]\n",
    "            b0[icond4] =    -br[icond4]\n",
    "    else:\n",
    "        xt = 0.25*(q[ixp1] - q[ixm1])\n",
    "        nearstack = np.stack((q[ix],q[ixm1],q[ixp1]))\n",
    "        dm = np.sign(xt)*np.min( np.stack( ( np.abs(xt), np.max(nearstack,axis=0)-q, q-np.min(nearstack,axis=0))), axis=0)\n",
    "        al = 0.5*(q[ixm1]+q[ix]) + r3*(dm[ixm1]-dm[ix])\n",
    "        \n",
    "        if ord == 8:\n",
    "            xt = 2.*dm\n",
    "            bl = -np.sign(xt)*np.min( np.stack(( np.abs(xt), np.abs(al[ix]  -q[ix] ))), axis=0)\n",
    "            br =  np.sign(xt)*np.min( np.stack(( np.abs(xt), np.abs(al[ixp1]-q[ix] ))), axis=0)\n",
    "        else:\n",
    "            dq = 2.*(q[ixp1] - q[ix])\n",
    "            bl = al[ix] - q[ix]\n",
    "            br = al[ixp1] - q[ix]\n",
    "\n",
    "            cond1 = np.abs(dm[ixm1]) + np.abs(dm[ix]) + np.abs(dm[ixp1]) < 1.e-25\n",
    "            cond2 = np.abs(3.*(bl+br)) > np.abs(bl-br) \n",
    "\n",
    "            icond1 = np.where(cond1)\n",
    "            bl[icond1] = 0.\n",
    "            br[icond1] = 0.\n",
    "            \n",
    "            icond2 = np.where(cond2 & ~cond1)\n",
    "\n",
    "            pmp2 = dq[ixm1[icond2]]\n",
    "            lac2 = pmp2 - 0.75*dq[ixm2[icond2]]\n",
    "            dd21 = np.max( np.stack((pmp2*0,pmp2,lac2)), axis=0)\n",
    "            dd22 = np.min( np.stack((pmp2*0,pmp2,lac2)), axis=0)\n",
    "            dd22 = np.max( np.stack((br[icond2],dd22)), axis=0)\n",
    "            br[icond2] = np.min( np.stack((dd21,dd22)), axis=0)\n",
    "\n",
    "            pmp1 = -dq[ix[icond2]]\n",
    "            lac1 = pmp1 + 0.75*dq[ixp1[icond2]]\n",
    "            dd11 = np.max( np.stack((pmp1*0,pmp1,lac1)), axis=0)\n",
    "            dd12 = np.min( np.stack((pmp1*0,pmp1,lac1)), axis=0)\n",
    "            dd12 = np.max( np.stack((bl[icond2],dd12)), axis=0)\n",
    "            bl[icond2] = np.min( np.stack((dd11,dd12)), axis=0)\n",
    "\n",
    "        b0 = bl+br\n",
    "\n",
    "    #compute flux\n",
    "    up = np.where(c > 0)[0]\n",
    "    ixup = np.mod(np.arange(nx+1),nx)\n",
    "    ixup[up] = ixup[up]-1\n",
    "    \n",
    "    cup = c.copy()\n",
    "    cup[up] = -c[up]\n",
    "\n",
    "    brl = bl[ixup]\n",
    "    brl[up] = br[ixup[up]]\n",
    "    \n",
    "    fx1 = (1.+cup)*(brl + cup*b0[ixup])\n",
    "    flux = q[ixup].copy()\n",
    "    \n",
    "    if ord <= 7:\n",
    "        lfull = np.logical_or(smt5[hx], smt5[hxm1])\n",
    "        full = np.where(lfull)[0]\n",
    "        flat = np.where(np.logical_not(lfull))[0]\n",
    "        flux[full] = flux[full] + fx1[full]\n",
    "    else:\n",
    "        full = range(nx+1)\n",
    "        flat = []\n",
    "        flux = flux + fx1\n",
    "    \n",
    "    flux = flux*c     \n",
    "\n",
    "    q = q + (flux[:-1] - flux[1:])\n",
    "    time += dt\n",
    "    \n",
    "    #https://medium.com/@shahinrostami/jupyter-notebook-and-updating-plots-f1ec4cdc354b\n",
    "    ax.cla()\n",
    "    \n",
    "    #Background lines\n",
    "    xi0 = xi*0.0\n",
    "    ax.plot(xi,xi0,color='lightgray',linewidth=0.5)\n",
    "    ax.plot(xi,xi0+1.0,color='lightgray',linewidth=0.5)\n",
    "    \n",
    "    \n",
    "    ax.plot(xc,tracer_init(xc - c0*(time)), linewidth=3, color='r', alpha=0.5) #exact solution\n",
    "    ax.plot(xc, q, linewidth=2) #Current value\n",
    "    ax.set_ylim((-0.2,1.2))\n",
    "    ax.set_xlim((xi[0],xi[-1]))\n",
    "    ax.spines['right'].set_visible(False)\n",
    "    ax.spines['top'].set_visible(False)\n",
    "    ax.yaxis.set_ticks_position('left')\n",
    "    ax.xaxis.set_ticks_position('bottom')\n",
    "    \n",
    "    ax.set_title(title_str % (time))\n",
    "    display(fig)\n",
    "    clear_output(wait = True)\n",
    "    \n",
    "    \n",
    "if writeFigs:\n",
    "    fig.savefig('/'.join((figdir, f'hord{ord}{PD}_IC{tracer_type}_time{time}_plot.png')))"
   ]
  },
  {
   "cell_type": "markdown",
   "metadata": {},
   "source": [
    "The next figure plots the sub-grid reconstructions in addition to the solution at the end of the simulation.  The colors indicate:\n",
    "- Black: reconstruction\n",
    "- Red: filtered reconstruction: the plotted reconstruction has been replaced with a first-order (flattened) reconstruction for computing the upwind flux.\n",
    "- Green: A reconstruction which has been modified to enforce positivity.\n",
    "- Purple and orange: limited reconstructions from the Huynh conditions (hord = 10)\n",
    "\n",
    "You can see some interesting things by running just a few timesteps, to see how schemes try to handle different ICs."
   ]
  },
  {
   "cell_type": "code",
   "execution_count": 9,
   "metadata": {
    "jupyter": {
     "source_hidden": true
    }
   },
   "outputs": [
    {
     "data": {
      "image/png": "[encoded data removed]",
      "text/plain": [
       "<Figure size 576x288 with 1 Axes>"
      ]
     },
     "metadata": {
      "needs_background": "light"
     },
     "output_type": "display_data"
    }
   ],
   "source": [
    "#Note that the reconstructions need not be continuous!!\n",
    "fig = plt.figure(figsize=(8,4))\n",
    "ax = fig.add_subplot(1, 1, 1) \n",
    "#Reconstruction plotting: in-cell coordinate is zz\n",
    "Nzz = 10 + 1\n",
    "zz = np.linspace(-1.,0.0,Nzz)\n",
    "zz = np.tile(zz,(nx+1,1))\n",
    "zp = (zz.T + np.reshape(xi, (1,nx+1))).T + 1.0\n",
    "\n",
    "A = np.reshape(qprev[hx] + br[hx], (nx+1,1)) \n",
    "B = 2.*np.reshape(2.*br[hx]+bl[hx], (nx+1,1))\n",
    "C = 3.*np.reshape(b0[hx], (nx+1,1))\n",
    "recon = A + (zz)*(B + C*(zz))\n",
    "        \n",
    "plt.plot(xc,qprev,color='blue',linewidth=6,alpha=0.5)\n",
    "#plt.plot(zp.T,recon.T,color='black');\n",
    "plt.scatter(xi,al[hx],color='gray',marker='o',s=15)\n",
    "plt.plot(zp[full,:].T,recon[full,:].T,color='black',linewidth=2);\n",
    "plt.plot(zp[flat,:].T,recon[flat,:].T,color='red',linewidth=2);\n",
    "if PD and ord < 7:\n",
    "    cond1a = np.append(cond1,cond1[0])\n",
    "    plt.plot(zp[cond1a,:].T,recon[cond1a,:].T,color='limegreen',linewidth=3)\n",
    "if ord == 10:\n",
    "    #Plot conditions\n",
    "    cond1a = np.append(cond1,cond1[0])\n",
    "    cond2a = np.append(cond2,cond2[0])\n",
    "    plt.plot(zp[cond1a,:].T,recon[cond1a,:].T,color='purple',linewidth=3)\n",
    "    plt.plot(zp[cond2a,:].T,recon[cond2a,:].T,color='orange',linewidth=3)\n",
    "    \n",
    "    \n",
    "plt.gca().set_ylim((-0.2,1.2))\n",
    "plt.gca().set_xlim((xi[0],xi[-1]))\n",
    "ax.spines['right'].set_visible(False)\n",
    "ax.spines['top'].set_visible(False)\n",
    "ax.yaxis.set_ticks_position('left')\n",
    "ax.xaxis.set_ticks_position('bottom')\n",
    "\n",
    "ax.set_title(title_str % (time));\n",
    "\n",
    "    \n",
    "if writeFigs:\n",
    "    fig.savefig('/'.join((figdir, f'hord{ord}{PD}_IC{tracer_type}_time{time}_recons.png')))"
   ]
  },
  {
   "cell_type": "markdown",
   "metadata": {},
   "source": [
    "This plot zooms in on the reconstructions to also show the edge values (green and purple triangles). Additionally the unlimited edge values are shown for the monotonic hord = 8 scheme. The zoom area can be configured (see zoomL and zoomR in cell \\#2 above)."
   ]
  },
  {
   "cell_type": "code",
   "execution_count": 10,
   "metadata": {
    "jupyter": {
     "source_hidden": true
    }
   },
   "outputs": [
    {
     "data": {
      "image/png": "[encoded data removed]",
      "text/plain": [
       "<Figure size 648x432 with 1 Axes>"
      ]
     },
     "metadata": {
      "needs_background": "light"
     },
     "output_type": "display_data"
    }
   ],
   "source": [
    "fig = plt.figure(figsize=(9,6))\n",
    "ax = fig.add_subplot(1, 1, 1) \n",
    "\n",
    "#Zoom-in\n",
    "zL=zoomL\n",
    "zR=zoomR\n",
    "\n",
    "plt.plot(xc,qprev,color='blue',linewidth=6,alpha=0.25)\n",
    "#plt.plot(zp.T,recon.T,color='black');\n",
    "plt.scatter(xi,al[hx],color='gray',marker='o',s=50)\n",
    "plt.plot(zp[full,:].T,recon[full,:].T,color='black',markersize=2);\n",
    "plt.plot(zp[flat,:].T,recon[flat,:].T,color='red',markersize=2);\n",
    "plt.scatter(xi[:-1],bl+qprev,marker=9,color='g',s=50)\n",
    "plt.scatter(xi[1:],br+qprev,marker=8,color='purple',s=50)\n",
    "if ord==8:\n",
    "    plt.errorbar(xi[:-1]+0.05,qprev[ix],yerr=xt,fmt='none',capsize=4,color='g',alpha=0.5)\n",
    "    plt.errorbar(xi[1:]-0.05,qprev[ix],yerr=xt,fmt='none',capsize=4,color='purple',alpha=0.5)\n",
    "    \n",
    "\n",
    "ax.set_xlim((xi[zL],xi[zR]));\n",
    "ax.set_ylim((-0.2,1.2));\n",
    "ax.set_title(title_str % (time));\n",
    "ax.xaxis.set_major_formatter(ticker.FormatStrFormatter('%0.0f'))\n",
    "\n",
    "if writeFigs:\n",
    "    fig.savefig('/'.join((figdir, f'hord{ord}{PD}_IC{tracer_type}_time{time}_zoom{zL}-{zR}.png')))"
   ]
  }
 ],
 "metadata": {
  "kernelspec": {
   "display_name": "Python 3",
   "language": "python",
   "name": "python3"
  },
  "language_info": {
   "codemirror_mode": {
    "name": "ipython",
    "version": 3
   },
   "file_extension": ".py",
   "mimetype": "text/x-python",
   "name": "python",
   "nbconvert_exporter": "python",
   "pygments_lexer": "ipython3",
   "version": "3.7.3"
  }
 },
 "nbformat": 4,
 "nbformat_minor": 5
}
