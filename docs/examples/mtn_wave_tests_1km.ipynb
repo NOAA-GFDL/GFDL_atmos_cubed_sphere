{
 "cells": [
  {
   "cell_type": "markdown",
   "id": "a4d9ce22",
   "metadata": {},
   "source": [
    "# Kilometer-scale flow-over-orography tests\n",
    "\n",
    "Here we demostrate a few idealized tests used to demonstrate the ability of a solver to replicate flow over topography on kilometer scales. These tests are excellent for demonstrating that the nonhydrostatic dynamics works correctly, and also to show that the \n",
    "\n",
    "1) Schar mountain wave, to show proper vertical propagation of a wave of longer vertical dimension, and proper *non*-propagation of the shorter mountain waves.\n",
    "2) Resting flow below a jet, to isolate errors from the hybridization and pressure-gradient force.\n",
    "\n",
    "These are 2D (x-z) tests which use a five-point wide domain in the y-direction; the flow is very nearly homogeneous in the y-direction. **Note** that FV3 is a *fully-compressible* model and should not be expected to reproduce Boussinesq solutions. In particular gravity waves will increase in amplitude with height in FV3, which is especially pronounced in these mountain wave tests that often prescribe domains with tops at 30 km or higher. In particular tests that rely on precise amplitudes of mountain waves against a Bousinessq exact solution are inappropriate for any fully-compressible solver.\n",
    "\n",
    "Since FV3 uses hybrid-pressure coordinates it is a little tricky to set up the initial state given in terms of height coordinates and buoyancy frequencies. See the notebook MountainWaveIC to see how this is done. \n",
    "\n",
    "Note that the \"origak\" run uses the 51 level setup with the same discontinuities that gave us trouble over topography in the auto-produced constant dz coordinate."
   ]
  },
  {
   "cell_type": "code",
   "execution_count": 1,
   "id": "dfcdab3a",
   "metadata": {},
   "outputs": [],
   "source": [
    "import xarray as xa\n",
    "import numpy as np\n",
    "import matplotlib.pyplot as plt\n",
    "from matplotlib import ticker, cm, colors\n",
    "import cartopy.crs as ccrs\n",
    "import colorsys\n",
    "import dask #Chunking will be necessary for the larger datasets"
   ]
  },
  {
   "cell_type": "code",
   "execution_count": 2,
   "id": "b956dc0a",
   "metadata": {
    "tags": []
   },
   "outputs": [],
   "source": [
    "large = 24; med = 20; small = 16\n",
    "params = {'axes.titlesize': large,\n",
    "          'legend.fontsize': med,\n",
    "          'figure.figsize': (14, 6),\n",
    "          'axes.labelsize': med,\n",
    "          'axes.titlesize': large,\n",
    "          'xtick.labelsize': small,\n",
    "          'ytick.labelsize': small,\n",
    "          'figure.titlesize': large,\n",
    "          'axes.titlepad': 6}\n",
    "plt.rcParams.update(params)"
   ]
  },
  {
   "cell_type": "code",
   "execution_count": 3,
   "id": "cde81258",
   "metadata": {},
   "outputs": [],
   "source": [
    "ds0=xa.open_dataset(\"/archive/lmh/SHiELD/202103/d96_1k.solo.mtn_rest_shear/history/0000000000/atmos_hourly.nc\",decode_times=False)\n",
    "ds0_stat=xa.open_dataset(\"/archive/lmh/SHiELD/202103/d96_1k.solo.mtn_rest_shear/history/0000000000/atmos_static.nc\",decode_times=False)\n",
    "\n",
    "ds_olddamp=xa.open_dataset(\"/archive/lmh/SHiELD/202103/d96_1k.solo.mtn_rest_shear.olddamp/history/0000000000/atmos_hourly.nc\",decode_times=False)\n",
    "ds_olddamp_stat=xa.open_dataset(\"/archive/lmh/SHiELD/202103/d96_1k.solo.mtn_rest_shear.olddamp/history/0000000000/atmos_static.nc\",decode_times=False)\n",
    "\n",
    "cint=0.01"
   ]
  },
  {
   "cell_type": "code",
   "execution_count": 4,
   "id": "1961fc9f",
   "metadata": {},
   "outputs": [],
   "source": [
    "#A convenient routine.\n",
    "def plot_topo_z(ax,xx,zs):\n",
    "    zs2=np.append(zs,[0,0])\n",
    "    c2 = np.append(xx,[xx[-1],xx[0]])\n",
    "    ax.fill(c2,zs2,'black')\n",
    "    #ax.fill(c2,zs2,'darkslategray')"
   ]
  },
  {
   "cell_type": "markdown",
   "id": "9bcffffd",
   "metadata": {},
   "source": [
    "## Schar mountain waves\n",
    "\n",
    "Standard Mountain wave case of [Schar et al. (2002, MWR)](https://doi.org/10.1175/1520-0493(2002)130%3C2459:ANTFVC%3E2.0.CO;2) at 1-km and 500-m resolution to demonstrate convergence. We use a pre-defined 40-level setup from FV3 with a top at 50 mb (about 18 km), with Rayleigh damping applied above 250 mb that uses the usual arctangent profile in FV3. (FV3 is not set up to use the very strong and very thick wave-absorbing layers that mountain wave idealized tests use.)\n",
    "\n",
    "Note that the vertically-propagating wave is very well-represented and the short-wavelength waves are properly evanescent (ie. decaying with height). This test is very similar to one done in Phase I of NGGPS; FV3 surprised a lot of people by doing very well at it."
   ]
  },
  {
   "cell_type": "code",
   "execution_count": null,
   "id": "93ede835",
   "metadata": {},
   "outputs": [],
   "source": [
    "dsmtn=xa.open_dataset(\"/archive/lmh/SHiELD/202103/d96_1k.solo.mtn_schar/history/0000000000/atmos_hourly.nc\",decode_times=False)\n",
    "dsmtn_stat=xa.open_dataset(\"/archive/lmh/SHiELD/202103/d96_1k.solo.mtn_schar/history/0000000000/atmos_static.nc\",decode_times=False)\n",
    "\n",
    "ds=dsmtn.sel(grid_yt=1,time=5.0)\n",
    "\n",
    "delp=ds.delp.values\n",
    "w=ds.w.values\n",
    "z=ds.hght.values\n",
    "delz=ds.delz.values\n",
    "\n",
    "x1d=ds.grid_xt.values - 96\n",
    "x=np.tile(x1d,(w.shape[0],1))\n",
    "\n",
    "zs=dsmtn_stat.sel(grid_yt=1).zsurf.values\n",
    "\n",
    "#Compute interface z \n",
    "(Nz,Nx) = w.shape\n",
    "zi = np.zeros((Nz+1,Nx)) + zs\n",
    "zi[:-1,:] = zi[:-1,:] + np.flip(np.cumsum(np.flip(delz,axis=0),axis=0),axis=0)\n",
    "\n",
    "\n",
    "fig=plt.figure(figsize=(18,12))\n",
    "#plt.contourf(x,z,w,levels=np.arange(-0.1,0.1,0.01),extend=\"both\",cmap=\"RdBu_r\")\n",
    "plt.pcolormesh(x,z,delz,alpha=0.5,edgecolor=None,)\n",
    "plt.colorbar()\n",
    "plt.contour(x,z,w,levels=np.arange(-1.0,0,0.05),colors=\"k\",linestyles=\"--\")\n",
    "plt.contour(x,z,w,levels=np.arange(0.05,1.1,0.05),colors=\"k\")\n",
    "plot_topo_z(plt.gca(),x1d,zs)\n",
    "plt.plot(x1d,zi.T,linewidth=0.25,color='k')\n",
    "\n",
    "plt.gca().set_ylim((0,15000))\n",
    "plt.gca().set_xlim((-20,20))\n",
    "plt.gca().set_title(\"Schar test (NH/U = 0.25) $\\Delta x = 1$ km\")\n",
    "\n",
    "x1km=x\n",
    "z1km=z\n",
    "w1km=w\n",
    "#plt.gca().set_ylabel(\"Height [m]\")\n",
    "#plt.gca().set_title(\"Hour 5 vertical velocity with larger damping (CI=%.3f m/s) and delz [m]\" % cint);"
   ]
  },
  {
   "cell_type": "code",
   "execution_count": null,
   "id": "6f9961d1",
   "metadata": {},
   "outputs": [],
   "source": [
    "dsmtn=xa.open_dataset(\"/archive/lmh/SHiELD/202103/d96_500m.solo.mtn_schar/history/0000000000/atmos_hourly.nc\",decode_times=False)\n",
    "dsmtn_stat=xa.open_dataset(\"/archive/lmh/SHiELD/202103/d96_500m.solo.mtn_schar/history/0000000000/atmos_static.nc\",decode_times=False)\n",
    "\n",
    "ds=dsmtn.sel(grid_yt=1,time=5.0)\n",
    "\n",
    "delp=ds.delp.values\n",
    "w=ds.w.values\n",
    "z=ds.hght.values\n",
    "delz=ds.delz.values\n",
    "\n",
    "x1d=ds.grid_xt.values*0.5 - 96 #500 m\n",
    "x=np.tile(x1d,(w.shape[0],1))\n",
    "\n",
    "zs=dsmtn_stat.sel(grid_yt=1).zsurf.values\n",
    "\n",
    "#Compute interface z \n",
    "(Nz,Nx) = w.shape\n",
    "zi = np.zeros((Nz+1,Nx)) + zs\n",
    "zi[:-1,:] = zi[:-1,:] + np.flip(np.cumsum(np.flip(delz,axis=0),axis=0),axis=0)\n",
    "\n",
    "\n",
    "fig=plt.figure(figsize=(18,12))\n",
    "#plt.contourf(x,z,w,levels=np.arange(-0.1,0.1,0.01),extend=\"both\",cmap=\"RdBu_r\")\n",
    "plt.pcolormesh(x,z,delz,alpha=0.5,edgecolor=None,)\n",
    "plt.colorbar()\n",
    "plt.contour(x,z,w,levels=np.arange(-1.0,0,0.05),colors=\"k\",linestyles=\"--\")\n",
    "plt.contour(x,z,w,levels=np.arange(0.05,1.1,0.05),colors=\"k\")\n",
    "plot_topo_z(plt.gca(),x1d,zs)\n",
    "plt.plot(x1d,zi.T,linewidth=0.25,color='k')\n",
    "\n",
    "#plt.contour(x1km,z1km,w1km,levels=np.arange(-1.0,0,0.05),colors=\"r\",linestyles=\"--\")\n",
    "#plt.contour(x1km,z1km,w1km,levels=np.arange(0.05,1.1,0.05),colors=\"r\")\n",
    "\n",
    "plt.gca().set_ylim((0,15000))\n",
    "plt.gca().set_xlim((-20,20))\n",
    "plt.gca().set_title(\"Schar test (NH/U = 0.25) $\\Delta x = 500$ m\");\n"
   ]
  },
  {
   "cell_type": "markdown",
   "id": "10f5769d",
   "metadata": {},
   "source": [
    "## Resting flow test\n",
    "\n",
    "This uses a variant of the test of S-H Park et al (MWR, 2019). Here, the atmosphere above a small-scale mountain ridge is at rest until 10 km AGL, where a jet linearly ramps up to 20 m/s at 14 km AGL and is uniform above; and in which the atmosphere uses a uniform buoyancy frequency of 0.01 below 10 km and a more stable layer of 0.02 above. This atmosphere filters out errors in the lower troposphere (which would appear in the above Schar test or in the uniform atmosphere of the mtn_rest_100km test) to isolate errors due to the transition between hybrid and pure-pressure coordinates. \n",
    "\n",
    "We use a higher level for the jet in line with the hybridization used in most global models, which require placing the level at which the pure-pressure coordinate begins at about 100--300 mb, higher than in many mesoscale models. We also use the same 50 vertical level setup already existent within FV3.\n",
    "\n",
    "This test emphasizes errors due to PGF errors in the upper troposphere (within the shear layer); the lower buoyancy frequency at lower layers reduces the vertical propagation of errors due to the PGF there. We find (again) that these are small, but can be enhanced due to a mis-configuration of the solver. \n"
   ]
  },
  {
   "cell_type": "code",
   "execution_count": null,
   "id": "64f94813",
   "metadata": {
    "tags": []
   },
   "outputs": [],
   "source": [
    "ds=ds0.sel(grid_yt=1,time=5.0)\n",
    "\n",
    "\n",
    "delp=ds.delp.values\n",
    "w=ds.w.values\n",
    "z=ds.hght.values\n",
    "delz=ds.delz.values\n",
    "\n",
    "x1d=ds.grid_xt.values\n",
    "x=np.tile(x1d,(w.shape[0],1))\n",
    "\n",
    "zs=ds0_stat.sel(grid_yt=1).zsurf.values\n",
    "\n",
    "#Compute interface z \n",
    "(Nz,Nx) = w.shape\n",
    "zi = np.zeros((Nz+1,Nx)) + zs\n",
    "zi[:-1,:] = zi[:-1,:] + np.flip(np.cumsum(np.flip(delz,axis=0),axis=0),axis=0)\n",
    "\n",
    "\n",
    "fig=plt.figure(figsize=(18,12))\n",
    "plt.pcolormesh(x,z,delz,alpha=0.5,edgecolor=None,)\n",
    "plt.colorbar()\n",
    "plt.contour(x,z,w,levels=np.arange(-1.0,0,cint),colors=\"k\",linestyles=\"--\")\n",
    "plt.contour(x,z,w,levels=np.arange(cint,1.1,cint),colors=\"k\")\n",
    "plot_topo_z(plt.gca(),x1d,zs)\n",
    "plt.plot(x1d,zi.T,linewidth=0.25,color='k')\n",
    "plt.plot(x1d[[0,Nx-1]],[14000,14000],linewidth=0.8,color='r')\n",
    "plt.plot(x1d[[0,Nx-1]],[10000,10000],linewidth=0.8,color='r')\n",
    "\n",
    "plt.gca().set_ylim((0,25000))\n",
    "plt.gca().set_xlim((20,80))\n",
    "plt.gca().set_ylabel(\"Height [m]\")\n",
    "plt.gca().set_title(\"Hour 5 vertical velocity (CI=%.3f m/s) and delz [m]\" % cint);"
   ]
  },
  {
   "cell_type": "markdown",
   "id": "6d39cf7c",
   "metadata": {},
   "source": [
    "The above simulation used the C-SHiELD damping (eighth-order divergence damping, 0.03 vorticity damping coefficient, dissipative heating, etc.). One might think that adding more diffusion would damp the already very-low errors. The simulation below uses sixth-order divergence damping and stronger vorticity damping (0.06). The errors become substantially worse, especially near the surface in which there should not be any error at all. This is an example in which *less* damping gives a *better* result!\n",
    "\n",
    "Note that this result differs from that in the 100-km test in which there was little to no sensitivity to diffusivity. This demonstrates that what works (or has no effect) at one resolution may have profound impacts at a different spatial scale. This also speaks to the strength of FV3 in that it can be configured to give great results at **any resolution**. (This also shows how one can fool themselves through idealized testing at one resolution and assume it applies to all resolutions---or how misconfiguring these tests can make a fool of the configurer.)"
   ]
  },
  {
   "cell_type": "code",
   "execution_count": null,
   "id": "8933683d",
   "metadata": {
    "tags": []
   },
   "outputs": [],
   "source": [
    "ds=ds_olddamp.sel(grid_yt=1,time=5.0)\n",
    "\n",
    "\n",
    "delp=ds.delp.values\n",
    "w=ds.w.values\n",
    "z=ds.hght.values\n",
    "delz=ds.delz.values\n",
    "\n",
    "x1d=ds.grid_xt.values\n",
    "x=np.tile(x1d,(w.shape[0],1))\n",
    "\n",
    "zs=ds0_stat.sel(grid_yt=1).zsurf.values\n",
    "\n",
    "#Compute interface z \n",
    "(Nz,Nx) = w.shape\n",
    "zi = np.zeros((Nz+1,Nx)) + zs\n",
    "zi[:-1,:] = zi[:-1,:] + np.flip(np.cumsum(np.flip(delz,axis=0),axis=0),axis=0)\n",
    "\n",
    "\n",
    "fig=plt.figure(figsize=(18,12))\n",
    "#plt.contourf(x,z,w,levels=np.arange(-0.1,0.1,0.01),extend=\"both\",cmap=\"RdBu_r\")\n",
    "plt.pcolormesh(x,z,delz,alpha=0.5,edgecolor=None,)\n",
    "plt.colorbar()\n",
    "plt.contour(x,z,w,levels=np.arange(-1.0,0,cint),colors=\"k\",linestyles=\"--\")\n",
    "plt.contour(x,z,w,levels=np.arange(cint,1.1,cint),colors=\"k\")\n",
    "plot_topo_z(plt.gca(),x1d,zs)\n",
    "plt.plot(x1d,zi.T,linewidth=0.25,color='k')\n",
    "plt.plot(x1d[[0,Nx-1]],[14000,14000],linewidth=0.8,color='r')\n",
    "plt.plot(x1d[[0,Nx-1]],[10000,10000],linewidth=0.8,color='r')\n",
    "\n",
    "plt.gca().set_ylim((0,25000))\n",
    "plt.gca().set_xlim((20,80))\n",
    "plt.gca().set_ylabel(\"Height [m]\")\n",
    "plt.gca().set_title(\"Hour 5 vertical velocity with larger damping (CI=%.3f m/s) and delz [m]\" % cint);"
   ]
  }
 ],
 "metadata": {
  "kernelspec": {
   "display_name": "Python 3",
   "language": "python",
   "name": "python3"
  },
  "language_info": {
   "codemirror_mode": {
    "name": "ipython",
    "version": 3
   },
   "file_extension": ".py",
   "mimetype": "text/x-python",
   "name": "python",
   "nbconvert_exporter": "python",
   "pygments_lexer": "ipython3",
   "version": "3.9.4"
  }
 },
 "nbformat": 4,
 "nbformat_minor": 5
}
